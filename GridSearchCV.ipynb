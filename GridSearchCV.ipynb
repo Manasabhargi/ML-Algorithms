{
 "cells": [
  {
   "cell_type": "code",
   "execution_count": 1,
   "id": "1e490842",
   "metadata": {},
   "outputs": [],
   "source": [
    "import pandas as pd"
   ]
  },
  {
   "cell_type": "code",
   "execution_count": 2,
   "id": "e43572dd",
   "metadata": {},
   "outputs": [],
   "source": [
    "data = pd.read_csv(\"https://raw.githubusercontent.com/aniruddhachoudhury/Red-Wine-Quality/master/winequality-red.csv\")"
   ]
  },
  {
   "cell_type": "code",
   "execution_count": 3,
   "id": "4cd0070d",
   "metadata": {},
   "outputs": [
    {
     "data": {
      "text/html": [
       "<div>\n",
       "<style scoped>\n",
       "    .dataframe tbody tr th:only-of-type {\n",
       "        vertical-align: middle;\n",
       "    }\n",
       "\n",
       "    .dataframe tbody tr th {\n",
       "        vertical-align: top;\n",
       "    }\n",
       "\n",
       "    .dataframe thead th {\n",
       "        text-align: right;\n",
       "    }\n",
       "</style>\n",
       "<table border=\"1\" class=\"dataframe\">\n",
       "  <thead>\n",
       "    <tr style=\"text-align: right;\">\n",
       "      <th></th>\n",
       "      <th>fixed acidity</th>\n",
       "      <th>volatile acidity</th>\n",
       "      <th>citric acid</th>\n",
       "      <th>residual sugar</th>\n",
       "      <th>chlorides</th>\n",
       "      <th>free sulfur dioxide</th>\n",
       "      <th>total sulfur dioxide</th>\n",
       "      <th>density</th>\n",
       "      <th>pH</th>\n",
       "      <th>sulphates</th>\n",
       "      <th>alcohol</th>\n",
       "      <th>quality</th>\n",
       "    </tr>\n",
       "  </thead>\n",
       "  <tbody>\n",
       "    <tr>\n",
       "      <th>0</th>\n",
       "      <td>7.4</td>\n",
       "      <td>0.70</td>\n",
       "      <td>0.00</td>\n",
       "      <td>1.9</td>\n",
       "      <td>0.076</td>\n",
       "      <td>11.0</td>\n",
       "      <td>34.0</td>\n",
       "      <td>0.9978</td>\n",
       "      <td>3.51</td>\n",
       "      <td>0.56</td>\n",
       "      <td>9.4</td>\n",
       "      <td>5</td>\n",
       "    </tr>\n",
       "    <tr>\n",
       "      <th>1</th>\n",
       "      <td>7.8</td>\n",
       "      <td>0.88</td>\n",
       "      <td>0.00</td>\n",
       "      <td>2.6</td>\n",
       "      <td>0.098</td>\n",
       "      <td>25.0</td>\n",
       "      <td>67.0</td>\n",
       "      <td>0.9968</td>\n",
       "      <td>3.20</td>\n",
       "      <td>0.68</td>\n",
       "      <td>9.8</td>\n",
       "      <td>5</td>\n",
       "    </tr>\n",
       "    <tr>\n",
       "      <th>2</th>\n",
       "      <td>7.8</td>\n",
       "      <td>0.76</td>\n",
       "      <td>0.04</td>\n",
       "      <td>2.3</td>\n",
       "      <td>0.092</td>\n",
       "      <td>15.0</td>\n",
       "      <td>54.0</td>\n",
       "      <td>0.9970</td>\n",
       "      <td>3.26</td>\n",
       "      <td>0.65</td>\n",
       "      <td>9.8</td>\n",
       "      <td>5</td>\n",
       "    </tr>\n",
       "    <tr>\n",
       "      <th>3</th>\n",
       "      <td>11.2</td>\n",
       "      <td>0.28</td>\n",
       "      <td>0.56</td>\n",
       "      <td>1.9</td>\n",
       "      <td>0.075</td>\n",
       "      <td>17.0</td>\n",
       "      <td>60.0</td>\n",
       "      <td>0.9980</td>\n",
       "      <td>3.16</td>\n",
       "      <td>0.58</td>\n",
       "      <td>9.8</td>\n",
       "      <td>6</td>\n",
       "    </tr>\n",
       "    <tr>\n",
       "      <th>4</th>\n",
       "      <td>7.4</td>\n",
       "      <td>0.70</td>\n",
       "      <td>0.00</td>\n",
       "      <td>1.9</td>\n",
       "      <td>0.076</td>\n",
       "      <td>11.0</td>\n",
       "      <td>34.0</td>\n",
       "      <td>0.9978</td>\n",
       "      <td>3.51</td>\n",
       "      <td>0.56</td>\n",
       "      <td>9.4</td>\n",
       "      <td>5</td>\n",
       "    </tr>\n",
       "  </tbody>\n",
       "</table>\n",
       "</div>"
      ],
      "text/plain": [
       "   fixed acidity  volatile acidity  citric acid  residual sugar  chlorides  \\\n",
       "0            7.4              0.70         0.00             1.9      0.076   \n",
       "1            7.8              0.88         0.00             2.6      0.098   \n",
       "2            7.8              0.76         0.04             2.3      0.092   \n",
       "3           11.2              0.28         0.56             1.9      0.075   \n",
       "4            7.4              0.70         0.00             1.9      0.076   \n",
       "\n",
       "   free sulfur dioxide  total sulfur dioxide  density    pH  sulphates  \\\n",
       "0                 11.0                  34.0   0.9978  3.51       0.56   \n",
       "1                 25.0                  67.0   0.9968  3.20       0.68   \n",
       "2                 15.0                  54.0   0.9970  3.26       0.65   \n",
       "3                 17.0                  60.0   0.9980  3.16       0.58   \n",
       "4                 11.0                  34.0   0.9978  3.51       0.56   \n",
       "\n",
       "   alcohol  quality  \n",
       "0      9.4        5  \n",
       "1      9.8        5  \n",
       "2      9.8        5  \n",
       "3      9.8        6  \n",
       "4      9.4        5  "
      ]
     },
     "execution_count": 3,
     "metadata": {},
     "output_type": "execute_result"
    }
   ],
   "source": [
    "data.head()"
   ]
  },
  {
   "cell_type": "code",
   "execution_count": 4,
   "id": "c41104f7",
   "metadata": {},
   "outputs": [],
   "source": [
    "X=data.drop(\"quality\",axis=1)"
   ]
  },
  {
   "cell_type": "code",
   "execution_count": 5,
   "id": "dcc72c79",
   "metadata": {},
   "outputs": [
    {
     "data": {
      "text/html": [
       "<div>\n",
       "<style scoped>\n",
       "    .dataframe tbody tr th:only-of-type {\n",
       "        vertical-align: middle;\n",
       "    }\n",
       "\n",
       "    .dataframe tbody tr th {\n",
       "        vertical-align: top;\n",
       "    }\n",
       "\n",
       "    .dataframe thead th {\n",
       "        text-align: right;\n",
       "    }\n",
       "</style>\n",
       "<table border=\"1\" class=\"dataframe\">\n",
       "  <thead>\n",
       "    <tr style=\"text-align: right;\">\n",
       "      <th></th>\n",
       "      <th>fixed acidity</th>\n",
       "      <th>volatile acidity</th>\n",
       "      <th>citric acid</th>\n",
       "      <th>residual sugar</th>\n",
       "      <th>chlorides</th>\n",
       "      <th>free sulfur dioxide</th>\n",
       "      <th>total sulfur dioxide</th>\n",
       "      <th>density</th>\n",
       "      <th>pH</th>\n",
       "      <th>sulphates</th>\n",
       "      <th>alcohol</th>\n",
       "    </tr>\n",
       "  </thead>\n",
       "  <tbody>\n",
       "    <tr>\n",
       "      <th>0</th>\n",
       "      <td>7.4</td>\n",
       "      <td>0.70</td>\n",
       "      <td>0.00</td>\n",
       "      <td>1.9</td>\n",
       "      <td>0.076</td>\n",
       "      <td>11.0</td>\n",
       "      <td>34.0</td>\n",
       "      <td>0.9978</td>\n",
       "      <td>3.51</td>\n",
       "      <td>0.56</td>\n",
       "      <td>9.4</td>\n",
       "    </tr>\n",
       "    <tr>\n",
       "      <th>1</th>\n",
       "      <td>7.8</td>\n",
       "      <td>0.88</td>\n",
       "      <td>0.00</td>\n",
       "      <td>2.6</td>\n",
       "      <td>0.098</td>\n",
       "      <td>25.0</td>\n",
       "      <td>67.0</td>\n",
       "      <td>0.9968</td>\n",
       "      <td>3.20</td>\n",
       "      <td>0.68</td>\n",
       "      <td>9.8</td>\n",
       "    </tr>\n",
       "    <tr>\n",
       "      <th>2</th>\n",
       "      <td>7.8</td>\n",
       "      <td>0.76</td>\n",
       "      <td>0.04</td>\n",
       "      <td>2.3</td>\n",
       "      <td>0.092</td>\n",
       "      <td>15.0</td>\n",
       "      <td>54.0</td>\n",
       "      <td>0.9970</td>\n",
       "      <td>3.26</td>\n",
       "      <td>0.65</td>\n",
       "      <td>9.8</td>\n",
       "    </tr>\n",
       "    <tr>\n",
       "      <th>3</th>\n",
       "      <td>11.2</td>\n",
       "      <td>0.28</td>\n",
       "      <td>0.56</td>\n",
       "      <td>1.9</td>\n",
       "      <td>0.075</td>\n",
       "      <td>17.0</td>\n",
       "      <td>60.0</td>\n",
       "      <td>0.9980</td>\n",
       "      <td>3.16</td>\n",
       "      <td>0.58</td>\n",
       "      <td>9.8</td>\n",
       "    </tr>\n",
       "    <tr>\n",
       "      <th>4</th>\n",
       "      <td>7.4</td>\n",
       "      <td>0.70</td>\n",
       "      <td>0.00</td>\n",
       "      <td>1.9</td>\n",
       "      <td>0.076</td>\n",
       "      <td>11.0</td>\n",
       "      <td>34.0</td>\n",
       "      <td>0.9978</td>\n",
       "      <td>3.51</td>\n",
       "      <td>0.56</td>\n",
       "      <td>9.4</td>\n",
       "    </tr>\n",
       "  </tbody>\n",
       "</table>\n",
       "</div>"
      ],
      "text/plain": [
       "   fixed acidity  volatile acidity  citric acid  residual sugar  chlorides  \\\n",
       "0            7.4              0.70         0.00             1.9      0.076   \n",
       "1            7.8              0.88         0.00             2.6      0.098   \n",
       "2            7.8              0.76         0.04             2.3      0.092   \n",
       "3           11.2              0.28         0.56             1.9      0.075   \n",
       "4            7.4              0.70         0.00             1.9      0.076   \n",
       "\n",
       "   free sulfur dioxide  total sulfur dioxide  density    pH  sulphates  \\\n",
       "0                 11.0                  34.0   0.9978  3.51       0.56   \n",
       "1                 25.0                  67.0   0.9968  3.20       0.68   \n",
       "2                 15.0                  54.0   0.9970  3.26       0.65   \n",
       "3                 17.0                  60.0   0.9980  3.16       0.58   \n",
       "4                 11.0                  34.0   0.9978  3.51       0.56   \n",
       "\n",
       "   alcohol  \n",
       "0      9.4  \n",
       "1      9.8  \n",
       "2      9.8  \n",
       "3      9.8  \n",
       "4      9.4  "
      ]
     },
     "execution_count": 5,
     "metadata": {},
     "output_type": "execute_result"
    }
   ],
   "source": [
    "X.head()"
   ]
  },
  {
   "cell_type": "code",
   "execution_count": 6,
   "id": "ad1836af",
   "metadata": {},
   "outputs": [],
   "source": [
    "y = data[\"quality\"]"
   ]
  },
  {
   "cell_type": "code",
   "execution_count": 7,
   "id": "f806b165",
   "metadata": {},
   "outputs": [
    {
     "data": {
      "text/plain": [
       "0    5\n",
       "1    5\n",
       "2    5\n",
       "3    6\n",
       "4    5\n",
       "Name: quality, dtype: int64"
      ]
     },
     "execution_count": 7,
     "metadata": {},
     "output_type": "execute_result"
    }
   ],
   "source": [
    "y.head()"
   ]
  },
  {
   "cell_type": "code",
   "execution_count": 8,
   "id": "733a5371",
   "metadata": {},
   "outputs": [],
   "source": [
    "# Splitting the dataset into the Training set and Test set\n",
    "from sklearn.model_selection import train_test_split\n",
    "X_train, X_test, y_train, y_test = train_test_split(X, y, test_size = 0.25, random_state = 5)"
   ]
  },
  {
   "cell_type": "code",
   "execution_count": 9,
   "id": "49bc372a",
   "metadata": {},
   "outputs": [],
   "source": [
    "# Feature Scaling\n",
    "from sklearn.preprocessing import StandardScaler\n",
    "sc = StandardScaler()\n",
    "X_train = sc.fit_transform(X_train)\n",
    "X_test = sc.transform(X_test)"
   ]
  },
  {
   "cell_type": "code",
   "execution_count": 10,
   "id": "234942f4",
   "metadata": {},
   "outputs": [
    {
     "data": {
      "text/plain": [
       "SVC(kernel='linear', random_state=0)"
      ]
     },
     "execution_count": 10,
     "metadata": {},
     "output_type": "execute_result"
    }
   ],
   "source": [
    "# Fitting Kernel SVM to the Training set\n",
    "from sklearn.svm import SVC\n",
    "model = SVC(kernel = 'linear', random_state = 0)\n",
    "model.fit(X_train, y_train)"
   ]
  },
  {
   "cell_type": "code",
   "execution_count": 11,
   "id": "e17d8d93",
   "metadata": {},
   "outputs": [],
   "source": [
    "# Predicting the Test set results\n",
    "y_pred = model.predict(X_test)"
   ]
  },
  {
   "cell_type": "code",
   "execution_count": 12,
   "id": "f53757c5",
   "metadata": {},
   "outputs": [],
   "source": [
    "# Making the Confusion Matrix\n",
    "from sklearn.metrics import confusion_matrix\n",
    "cm = confusion_matrix(y_test, y_pred)"
   ]
  },
  {
   "cell_type": "code",
   "execution_count": 13,
   "id": "89c4d951",
   "metadata": {},
   "outputs": [],
   "source": [
    "from sklearn.metrics import accuracy_score\n",
    "accuracy=accuracy_score(y_test,y_pred)"
   ]
  },
  {
   "cell_type": "code",
   "execution_count": 14,
   "id": "5d9ca881",
   "metadata": {},
   "outputs": [
    {
     "data": {
      "text/plain": [
       "0.6"
      ]
     },
     "execution_count": 14,
     "metadata": {},
     "output_type": "execute_result"
    }
   ],
   "source": [
    "\n",
    "accuracy"
   ]
  },
  {
   "cell_type": "code",
   "execution_count": 15,
   "id": "a8acf69e",
   "metadata": {},
   "outputs": [
    {
     "name": "stdout",
     "output_type": "stream",
     "text": [
      "Fitting 5 folds for each of 36 candidates, totalling 180 fits\n",
      "[CV 1/5] END ........C=1, gamma=0.1, kernel=rbf;, score=0.646 total time=   0.2s\n",
      "[CV 2/5] END ........C=1, gamma=0.1, kernel=rbf;, score=0.613 total time=   0.2s\n",
      "[CV 3/5] END ........C=1, gamma=0.1, kernel=rbf;, score=0.567 total time=   0.2s\n",
      "[CV 4/5] END ........C=1, gamma=0.1, kernel=rbf;, score=0.617 total time=   0.2s\n",
      "[CV 5/5] END ........C=1, gamma=0.1, kernel=rbf;, score=0.598 total time=   0.2s\n",
      "[CV 1/5] END ........C=1, gamma=0.2, kernel=rbf;, score=0.658 total time=   0.2s\n",
      "[CV 2/5] END ........C=1, gamma=0.2, kernel=rbf;, score=0.617 total time=   0.2s\n",
      "[CV 3/5] END ........C=1, gamma=0.2, kernel=rbf;, score=0.588 total time=   0.2s\n",
      "[CV 4/5] END ........C=1, gamma=0.2, kernel=rbf;, score=0.629 total time=   0.2s\n",
      "[CV 5/5] END ........C=1, gamma=0.2, kernel=rbf;, score=0.619 total time=   0.2s\n",
      "[CV 1/5] END ........C=1, gamma=0.3, kernel=rbf;, score=0.667 total time=   0.2s\n",
      "[CV 2/5] END ........C=1, gamma=0.3, kernel=rbf;, score=0.621 total time=   0.3s\n",
      "[CV 3/5] END ........C=1, gamma=0.3, kernel=rbf;, score=0.567 total time=   0.2s\n",
      "[CV 4/5] END ........C=1, gamma=0.3, kernel=rbf;, score=0.629 total time=   0.2s\n",
      "[CV 5/5] END ........C=1, gamma=0.3, kernel=rbf;, score=0.628 total time=   0.3s\n",
      "[CV 1/5] END ........C=1, gamma=0.4, kernel=rbf;, score=0.671 total time=   0.3s\n",
      "[CV 2/5] END ........C=1, gamma=0.4, kernel=rbf;, score=0.621 total time=   0.3s\n",
      "[CV 3/5] END ........C=1, gamma=0.4, kernel=rbf;, score=0.588 total time=   0.3s\n",
      "[CV 4/5] END ........C=1, gamma=0.4, kernel=rbf;, score=0.625 total time=   0.3s\n",
      "[CV 5/5] END ........C=1, gamma=0.4, kernel=rbf;, score=0.632 total time=   0.3s\n",
      "[CV 1/5] END ........C=1, gamma=0.5, kernel=rbf;, score=0.642 total time=   0.3s\n",
      "[CV 2/5] END ........C=1, gamma=0.5, kernel=rbf;, score=0.621 total time=   0.3s\n",
      "[CV 3/5] END ........C=1, gamma=0.5, kernel=rbf;, score=0.596 total time=   0.3s\n",
      "[CV 4/5] END ........C=1, gamma=0.5, kernel=rbf;, score=0.637 total time=   0.3s\n",
      "[CV 5/5] END ........C=1, gamma=0.5, kernel=rbf;, score=0.640 total time=   0.3s\n",
      "[CV 1/5] END ........C=1, gamma=0.6, kernel=rbf;, score=0.633 total time=   0.3s\n",
      "[CV 2/5] END ........C=1, gamma=0.6, kernel=rbf;, score=0.650 total time=   0.4s\n",
      "[CV 3/5] END ........C=1, gamma=0.6, kernel=rbf;, score=0.604 total time=   0.4s\n",
      "[CV 4/5] END ........C=1, gamma=0.6, kernel=rbf;, score=0.646 total time=   0.3s\n",
      "[CV 5/5] END ........C=1, gamma=0.6, kernel=rbf;, score=0.628 total time=   0.3s\n",
      "[CV 1/5] END ........C=1, gamma=0.7, kernel=rbf;, score=0.629 total time=   0.4s\n",
      "[CV 2/5] END ........C=1, gamma=0.7, kernel=rbf;, score=0.662 total time=   0.4s\n",
      "[CV 3/5] END ........C=1, gamma=0.7, kernel=rbf;, score=0.600 total time=   0.4s\n",
      "[CV 4/5] END ........C=1, gamma=0.7, kernel=rbf;, score=0.662 total time=   0.4s\n",
      "[CV 5/5] END ........C=1, gamma=0.7, kernel=rbf;, score=0.628 total time=   0.4s\n",
      "[CV 1/5] END ........C=1, gamma=0.8, kernel=rbf;, score=0.633 total time=   0.4s\n",
      "[CV 2/5] END ........C=1, gamma=0.8, kernel=rbf;, score=0.650 total time=   0.4s\n",
      "[CV 3/5] END ........C=1, gamma=0.8, kernel=rbf;, score=0.617 total time=   0.4s\n",
      "[CV 4/5] END ........C=1, gamma=0.8, kernel=rbf;, score=0.667 total time=   0.4s\n",
      "[CV 5/5] END ........C=1, gamma=0.8, kernel=rbf;, score=0.636 total time=   0.4s\n",
      "[CV 1/5] END ........C=1, gamma=0.9, kernel=rbf;, score=0.629 total time=   0.4s\n",
      "[CV 2/5] END ........C=1, gamma=0.9, kernel=rbf;, score=0.650 total time=   0.4s\n",
      "[CV 3/5] END ........C=1, gamma=0.9, kernel=rbf;, score=0.617 total time=   0.4s\n",
      "[CV 4/5] END ........C=1, gamma=0.9, kernel=rbf;, score=0.654 total time=   0.4s\n",
      "[CV 5/5] END ........C=1, gamma=0.9, kernel=rbf;, score=0.640 total time=   0.5s\n",
      "[CV 1/5] END .......C=10, gamma=0.1, kernel=rbf;, score=0.658 total time=   0.2s\n",
      "[CV 2/5] END .......C=10, gamma=0.1, kernel=rbf;, score=0.617 total time=   0.2s\n",
      "[CV 3/5] END .......C=10, gamma=0.1, kernel=rbf;, score=0.579 total time=   0.2s\n",
      "[CV 4/5] END .......C=10, gamma=0.1, kernel=rbf;, score=0.583 total time=   0.2s\n",
      "[CV 5/5] END .......C=10, gamma=0.1, kernel=rbf;, score=0.615 total time=   0.2s\n",
      "[CV 1/5] END .......C=10, gamma=0.2, kernel=rbf;, score=0.617 total time=   0.2s\n",
      "[CV 2/5] END .......C=10, gamma=0.2, kernel=rbf;, score=0.600 total time=   0.3s\n",
      "[CV 3/5] END .......C=10, gamma=0.2, kernel=rbf;, score=0.592 total time=   0.2s\n",
      "[CV 4/5] END .......C=10, gamma=0.2, kernel=rbf;, score=0.600 total time=   0.2s\n",
      "[CV 5/5] END .......C=10, gamma=0.2, kernel=rbf;, score=0.611 total time=   0.2s\n",
      "[CV 1/5] END .......C=10, gamma=0.3, kernel=rbf;, score=0.621 total time=   0.4s\n",
      "[CV 2/5] END .......C=10, gamma=0.3, kernel=rbf;, score=0.621 total time=   0.3s\n",
      "[CV 3/5] END .......C=10, gamma=0.3, kernel=rbf;, score=0.617 total time=   0.3s\n",
      "[CV 4/5] END .......C=10, gamma=0.3, kernel=rbf;, score=0.613 total time=   0.3s\n",
      "[CV 5/5] END .......C=10, gamma=0.3, kernel=rbf;, score=0.619 total time=   0.3s\n",
      "[CV 1/5] END .......C=10, gamma=0.4, kernel=rbf;, score=0.617 total time=   0.4s\n",
      "[CV 2/5] END .......C=10, gamma=0.4, kernel=rbf;, score=0.662 total time=   0.4s\n",
      "[CV 3/5] END .......C=10, gamma=0.4, kernel=rbf;, score=0.633 total time=   0.3s\n",
      "[CV 4/5] END .......C=10, gamma=0.4, kernel=rbf;, score=0.613 total time=   0.3s\n",
      "[CV 5/5] END .......C=10, gamma=0.4, kernel=rbf;, score=0.619 total time=   0.3s\n",
      "[CV 1/5] END .......C=10, gamma=0.5, kernel=rbf;, score=0.633 total time=   0.4s\n",
      "[CV 2/5] END .......C=10, gamma=0.5, kernel=rbf;, score=0.642 total time=   0.4s\n",
      "[CV 3/5] END .......C=10, gamma=0.5, kernel=rbf;, score=0.629 total time=   0.4s\n",
      "[CV 4/5] END .......C=10, gamma=0.5, kernel=rbf;, score=0.642 total time=   0.4s\n",
      "[CV 5/5] END .......C=10, gamma=0.5, kernel=rbf;, score=0.649 total time=   0.4s\n",
      "[CV 1/5] END .......C=10, gamma=0.6, kernel=rbf;, score=0.633 total time=   0.4s\n",
      "[CV 2/5] END .......C=10, gamma=0.6, kernel=rbf;, score=0.637 total time=   0.4s\n",
      "[CV 3/5] END .......C=10, gamma=0.6, kernel=rbf;, score=0.608 total time=   0.4s\n",
      "[CV 4/5] END .......C=10, gamma=0.6, kernel=rbf;, score=0.662 total time=   0.4s\n",
      "[CV 5/5] END .......C=10, gamma=0.6, kernel=rbf;, score=0.640 total time=   0.4s\n",
      "[CV 1/5] END .......C=10, gamma=0.7, kernel=rbf;, score=0.617 total time=   0.4s\n",
      "[CV 2/5] END .......C=10, gamma=0.7, kernel=rbf;, score=0.642 total time=   0.4s\n",
      "[CV 3/5] END .......C=10, gamma=0.7, kernel=rbf;, score=0.617 total time=   0.4s\n",
      "[CV 4/5] END .......C=10, gamma=0.7, kernel=rbf;, score=0.650 total time=   0.4s\n",
      "[CV 5/5] END .......C=10, gamma=0.7, kernel=rbf;, score=0.644 total time=   0.4s\n",
      "[CV 1/5] END .......C=10, gamma=0.8, kernel=rbf;, score=0.642 total time=   0.5s\n",
      "[CV 2/5] END .......C=10, gamma=0.8, kernel=rbf;, score=0.642 total time=   0.4s\n",
      "[CV 3/5] END .......C=10, gamma=0.8, kernel=rbf;, score=0.629 total time=   0.4s\n",
      "[CV 4/5] END .......C=10, gamma=0.8, kernel=rbf;, score=0.650 total time=   0.4s\n",
      "[CV 5/5] END .......C=10, gamma=0.8, kernel=rbf;, score=0.640 total time=   0.4s\n",
      "[CV 1/5] END .......C=10, gamma=0.9, kernel=rbf;, score=0.642 total time=   0.4s\n",
      "[CV 2/5] END .......C=10, gamma=0.9, kernel=rbf;, score=0.629 total time=   0.5s\n",
      "[CV 3/5] END .......C=10, gamma=0.9, kernel=rbf;, score=0.642 total time=   0.4s\n",
      "[CV 4/5] END .......C=10, gamma=0.9, kernel=rbf;, score=0.658 total time=   0.4s\n",
      "[CV 5/5] END .......C=10, gamma=0.9, kernel=rbf;, score=0.636 total time=   0.5s\n",
      "[CV 1/5] END ......C=100, gamma=0.1, kernel=rbf;, score=0.588 total time=   0.4s\n",
      "[CV 2/5] END ......C=100, gamma=0.1, kernel=rbf;, score=0.588 total time=   0.4s\n",
      "[CV 3/5] END ......C=100, gamma=0.1, kernel=rbf;, score=0.596 total time=   0.4s\n",
      "[CV 4/5] END ......C=100, gamma=0.1, kernel=rbf;, score=0.583 total time=   0.4s\n",
      "[CV 5/5] END ......C=100, gamma=0.1, kernel=rbf;, score=0.607 total time=   0.4s\n",
      "[CV 1/5] END ......C=100, gamma=0.2, kernel=rbf;, score=0.596 total time=   0.3s\n",
      "[CV 2/5] END ......C=100, gamma=0.2, kernel=rbf;, score=0.592 total time=   0.4s\n",
      "[CV 3/5] END ......C=100, gamma=0.2, kernel=rbf;, score=0.617 total time=   0.3s\n",
      "[CV 4/5] END ......C=100, gamma=0.2, kernel=rbf;, score=0.600 total time=   0.3s\n",
      "[CV 5/5] END ......C=100, gamma=0.2, kernel=rbf;, score=0.603 total time=   0.3s\n",
      "[CV 1/5] END ......C=100, gamma=0.3, kernel=rbf;, score=0.633 total time=   0.3s\n"
     ]
    },
    {
     "name": "stdout",
     "output_type": "stream",
     "text": [
      "[CV 2/5] END ......C=100, gamma=0.3, kernel=rbf;, score=0.608 total time=   0.4s\n",
      "[CV 3/5] END ......C=100, gamma=0.3, kernel=rbf;, score=0.617 total time=   0.3s\n",
      "[CV 4/5] END ......C=100, gamma=0.3, kernel=rbf;, score=0.600 total time=   0.3s\n",
      "[CV 5/5] END ......C=100, gamma=0.3, kernel=rbf;, score=0.607 total time=   0.3s\n",
      "[CV 1/5] END ......C=100, gamma=0.4, kernel=rbf;, score=0.617 total time=   0.3s\n",
      "[CV 2/5] END ......C=100, gamma=0.4, kernel=rbf;, score=0.621 total time=   0.4s\n",
      "[CV 3/5] END ......C=100, gamma=0.4, kernel=rbf;, score=0.608 total time=   0.4s\n",
      "[CV 4/5] END ......C=100, gamma=0.4, kernel=rbf;, score=0.621 total time=   0.3s\n",
      "[CV 5/5] END ......C=100, gamma=0.4, kernel=rbf;, score=0.603 total time=   0.4s\n",
      "[CV 1/5] END ......C=100, gamma=0.5, kernel=rbf;, score=0.629 total time=   0.4s\n",
      "[CV 2/5] END ......C=100, gamma=0.5, kernel=rbf;, score=0.621 total time=   0.4s\n",
      "[CV 3/5] END ......C=100, gamma=0.5, kernel=rbf;, score=0.617 total time=   0.4s\n",
      "[CV 4/5] END ......C=100, gamma=0.5, kernel=rbf;, score=0.629 total time=   0.4s\n",
      "[CV 5/5] END ......C=100, gamma=0.5, kernel=rbf;, score=0.619 total time=   0.4s\n",
      "[CV 1/5] END ......C=100, gamma=0.6, kernel=rbf;, score=0.637 total time=   0.4s\n",
      "[CV 2/5] END ......C=100, gamma=0.6, kernel=rbf;, score=0.621 total time=   0.4s\n",
      "[CV 3/5] END ......C=100, gamma=0.6, kernel=rbf;, score=0.621 total time=   0.4s\n",
      "[CV 4/5] END ......C=100, gamma=0.6, kernel=rbf;, score=0.642 total time=   0.4s\n",
      "[CV 5/5] END ......C=100, gamma=0.6, kernel=rbf;, score=0.636 total time=   0.4s\n",
      "[CV 1/5] END ......C=100, gamma=0.7, kernel=rbf;, score=0.629 total time=   0.4s\n",
      "[CV 2/5] END ......C=100, gamma=0.7, kernel=rbf;, score=0.637 total time=   0.4s\n",
      "[CV 3/5] END ......C=100, gamma=0.7, kernel=rbf;, score=0.621 total time=   0.4s\n",
      "[CV 4/5] END ......C=100, gamma=0.7, kernel=rbf;, score=0.646 total time=   0.4s\n",
      "[CV 5/5] END ......C=100, gamma=0.7, kernel=rbf;, score=0.640 total time=   0.4s\n",
      "[CV 1/5] END ......C=100, gamma=0.8, kernel=rbf;, score=0.637 total time=   0.4s\n",
      "[CV 2/5] END ......C=100, gamma=0.8, kernel=rbf;, score=0.642 total time=   0.4s\n",
      "[CV 3/5] END ......C=100, gamma=0.8, kernel=rbf;, score=0.633 total time=   0.4s\n",
      "[CV 4/5] END ......C=100, gamma=0.8, kernel=rbf;, score=0.650 total time=   0.4s\n",
      "[CV 5/5] END ......C=100, gamma=0.8, kernel=rbf;, score=0.644 total time=   0.5s\n",
      "[CV 1/5] END ......C=100, gamma=0.9, kernel=rbf;, score=0.633 total time=   0.5s\n",
      "[CV 2/5] END ......C=100, gamma=0.9, kernel=rbf;, score=0.629 total time=   0.5s\n",
      "[CV 3/5] END ......C=100, gamma=0.9, kernel=rbf;, score=0.646 total time=   0.4s\n",
      "[CV 4/5] END ......C=100, gamma=0.9, kernel=rbf;, score=0.654 total time=   0.5s\n",
      "[CV 5/5] END ......C=100, gamma=0.9, kernel=rbf;, score=0.640 total time=   0.5s\n",
      "[CV 1/5] END .....C=1000, gamma=0.1, kernel=rbf;, score=0.558 total time=   0.9s\n",
      "[CV 2/5] END .....C=1000, gamma=0.1, kernel=rbf;, score=0.571 total time=   0.8s\n",
      "[CV 3/5] END .....C=1000, gamma=0.1, kernel=rbf;, score=0.608 total time=   0.8s\n",
      "[CV 4/5] END .....C=1000, gamma=0.1, kernel=rbf;, score=0.571 total time=   0.8s\n",
      "[CV 5/5] END .....C=1000, gamma=0.1, kernel=rbf;, score=0.590 total time=   0.8s\n",
      "[CV 1/5] END .....C=1000, gamma=0.2, kernel=rbf;, score=0.592 total time=   0.4s\n",
      "[CV 2/5] END .....C=1000, gamma=0.2, kernel=rbf;, score=0.571 total time=   0.4s\n",
      "[CV 3/5] END .....C=1000, gamma=0.2, kernel=rbf;, score=0.608 total time=   0.4s\n",
      "[CV 4/5] END .....C=1000, gamma=0.2, kernel=rbf;, score=0.600 total time=   0.4s\n",
      "[CV 5/5] END .....C=1000, gamma=0.2, kernel=rbf;, score=0.598 total time=   0.4s\n",
      "[CV 1/5] END .....C=1000, gamma=0.3, kernel=rbf;, score=0.621 total time=   0.3s\n",
      "[CV 2/5] END .....C=1000, gamma=0.3, kernel=rbf;, score=0.604 total time=   0.3s\n",
      "[CV 3/5] END .....C=1000, gamma=0.3, kernel=rbf;, score=0.617 total time=   0.3s\n",
      "[CV 4/5] END .....C=1000, gamma=0.3, kernel=rbf;, score=0.608 total time=   0.4s\n",
      "[CV 5/5] END .....C=1000, gamma=0.3, kernel=rbf;, score=0.603 total time=   0.4s\n",
      "[CV 1/5] END .....C=1000, gamma=0.4, kernel=rbf;, score=0.633 total time=   0.4s\n",
      "[CV 2/5] END .....C=1000, gamma=0.4, kernel=rbf;, score=0.621 total time=   0.3s\n",
      "[CV 3/5] END .....C=1000, gamma=0.4, kernel=rbf;, score=0.617 total time=   0.4s\n",
      "[CV 4/5] END .....C=1000, gamma=0.4, kernel=rbf;, score=0.621 total time=   0.3s\n",
      "[CV 5/5] END .....C=1000, gamma=0.4, kernel=rbf;, score=0.598 total time=   0.4s\n",
      "[CV 1/5] END .....C=1000, gamma=0.5, kernel=rbf;, score=0.637 total time=   0.4s\n",
      "[CV 2/5] END .....C=1000, gamma=0.5, kernel=rbf;, score=0.621 total time=   0.4s\n",
      "[CV 3/5] END .....C=1000, gamma=0.5, kernel=rbf;, score=0.617 total time=   0.4s\n",
      "[CV 4/5] END .....C=1000, gamma=0.5, kernel=rbf;, score=0.629 total time=   0.4s\n",
      "[CV 5/5] END .....C=1000, gamma=0.5, kernel=rbf;, score=0.611 total time=   0.4s\n",
      "[CV 1/5] END .....C=1000, gamma=0.6, kernel=rbf;, score=0.642 total time=   0.4s\n",
      "[CV 2/5] END .....C=1000, gamma=0.6, kernel=rbf;, score=0.621 total time=   0.4s\n",
      "[CV 3/5] END .....C=1000, gamma=0.6, kernel=rbf;, score=0.617 total time=   0.4s\n",
      "[CV 4/5] END .....C=1000, gamma=0.6, kernel=rbf;, score=0.642 total time=   0.4s\n",
      "[CV 5/5] END .....C=1000, gamma=0.6, kernel=rbf;, score=0.632 total time=   0.4s\n",
      "[CV 1/5] END .....C=1000, gamma=0.7, kernel=rbf;, score=0.629 total time=   0.4s\n",
      "[CV 2/5] END .....C=1000, gamma=0.7, kernel=rbf;, score=0.637 total time=   0.4s\n",
      "[CV 3/5] END .....C=1000, gamma=0.7, kernel=rbf;, score=0.621 total time=   0.4s\n",
      "[CV 4/5] END .....C=1000, gamma=0.7, kernel=rbf;, score=0.646 total time=   0.4s\n",
      "[CV 5/5] END .....C=1000, gamma=0.7, kernel=rbf;, score=0.640 total time=   0.4s\n",
      "[CV 1/5] END .....C=1000, gamma=0.8, kernel=rbf;, score=0.637 total time=   0.4s\n",
      "[CV 2/5] END .....C=1000, gamma=0.8, kernel=rbf;, score=0.642 total time=   0.4s\n",
      "[CV 3/5] END .....C=1000, gamma=0.8, kernel=rbf;, score=0.633 total time=   0.4s\n",
      "[CV 4/5] END .....C=1000, gamma=0.8, kernel=rbf;, score=0.650 total time=   0.5s\n",
      "[CV 5/5] END .....C=1000, gamma=0.8, kernel=rbf;, score=0.644 total time=   0.4s\n",
      "[CV 1/5] END .....C=1000, gamma=0.9, kernel=rbf;, score=0.633 total time=   0.4s\n",
      "[CV 2/5] END .....C=1000, gamma=0.9, kernel=rbf;, score=0.629 total time=   0.4s\n",
      "[CV 3/5] END .....C=1000, gamma=0.9, kernel=rbf;, score=0.646 total time=   0.4s\n",
      "[CV 4/5] END .....C=1000, gamma=0.9, kernel=rbf;, score=0.654 total time=   0.4s\n",
      "[CV 5/5] END .....C=1000, gamma=0.9, kernel=rbf;, score=0.640 total time=   0.5s\n"
     ]
    },
    {
     "data": {
      "text/plain": [
       "GridSearchCV(estimator=SVC(),\n",
       "             param_grid=[{'C': [1, 10, 100, 1000],\n",
       "                          'gamma': [0.1, 0.2, 0.3, 0.4, 0.5, 0.6, 0.7, 0.8,\n",
       "                                    0.9],\n",
       "                          'kernel': ['rbf']}],\n",
       "             verbose=3)"
      ]
     },
     "execution_count": 15,
     "metadata": {},
     "output_type": "execute_result"
    }
   ],
   "source": [
    "from sklearn.model_selection import GridSearchCV\n",
    "  \n",
    "# defining parameter range\n",
    "parameters = [{'C': [1, 10, 100, 1000], 'kernel': ['rbf'], 'gamma': [0.1, 0.2, 0.3, 0.4, 0.5, 0.6, 0.7, 0.8, 0.9]}]\n",
    "  \n",
    "grid = GridSearchCV(SVC(), parameters, refit = True, verbose = 3)\n",
    "  \n",
    "# fitting the model for grid search\n",
    "grid.fit(X_train, y_train)"
   ]
  },
  {
   "cell_type": "code",
   "execution_count": 17,
   "id": "20aca322",
   "metadata": {},
   "outputs": [],
   "source": [
    "accuracy = grid.best_score_"
   ]
  },
  {
   "cell_type": "code",
   "execution_count": 18,
   "id": "f687f1a8",
   "metadata": {},
   "outputs": [
    {
     "data": {
      "text/plain": [
       "0.6413702928870293"
      ]
     },
     "execution_count": 18,
     "metadata": {},
     "output_type": "execute_result"
    }
   ],
   "source": [
    "accuracy"
   ]
  },
  {
   "cell_type": "code",
   "execution_count": 19,
   "id": "3d618619",
   "metadata": {},
   "outputs": [
    {
     "data": {
      "text/plain": [
       "{'C': 100, 'gamma': 0.8, 'kernel': 'rbf'}"
      ]
     },
     "execution_count": 19,
     "metadata": {},
     "output_type": "execute_result"
    }
   ],
   "source": [
    "grid.best_params_"
   ]
  },
  {
   "cell_type": "code",
   "execution_count": 20,
   "id": "eadf183e",
   "metadata": {},
   "outputs": [
    {
     "data": {
      "text/plain": [
       "SVC(gamma=0.7)"
      ]
     },
     "execution_count": 20,
     "metadata": {},
     "output_type": "execute_result"
    }
   ],
   "source": [
    "model2 = SVC(kernel = 'rbf', gamma=0.7)\n",
    "model2.fit(X_train, y_train)"
   ]
  },
  {
   "cell_type": "code",
   "execution_count": 21,
   "id": "7f96cb83",
   "metadata": {},
   "outputs": [],
   "source": [
    "# Predicting the Test set results\n",
    "y_pred = model2.predict(X_test)"
   ]
  },
  {
   "cell_type": "code",
   "execution_count": 22,
   "id": "8ec8acf6",
   "metadata": {},
   "outputs": [],
   "source": [
    "# Making the Confusion Matrix\n",
    "from sklearn.metrics import confusion_matrix\n",
    "cm = confusion_matrix(y_test, y_pred)"
   ]
  },
  {
   "cell_type": "code",
   "execution_count": 23,
   "id": "fd421a3e",
   "metadata": {},
   "outputs": [],
   "source": [
    "from sklearn.metrics import accuracy_score\n",
    "accuracy=accuracy_score(y_test,y_pred)"
   ]
  },
  {
   "cell_type": "code",
   "execution_count": 24,
   "id": "0a4916c8",
   "metadata": {},
   "outputs": [
    {
     "data": {
      "text/plain": [
       "0.6625"
      ]
     },
     "execution_count": 24,
     "metadata": {},
     "output_type": "execute_result"
    }
   ],
   "source": [
    "accuracy"
   ]
  },
  {
   "cell_type": "code",
   "execution_count": null,
   "id": "57178efd",
   "metadata": {},
   "outputs": [],
   "source": []
  }
 ],
 "metadata": {
  "kernelspec": {
   "display_name": "Python 3 (ipykernel)",
   "language": "python",
   "name": "python3"
  },
  "language_info": {
   "codemirror_mode": {
    "name": "ipython",
    "version": 3
   },
   "file_extension": ".py",
   "mimetype": "text/x-python",
   "name": "python",
   "nbconvert_exporter": "python",
   "pygments_lexer": "ipython3",
   "version": "3.9.12"
  }
 },
 "nbformat": 4,
 "nbformat_minor": 5
}
